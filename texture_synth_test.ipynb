{
 "cells": [
  {
   "cell_type": "code",
   "execution_count": 1,
   "metadata": {},
   "outputs": [],
   "source": [
    "import sys, os\n",
    "sys.path.append(\"source\")\n",
    "\n",
    "import numpy as np\n",
    "import matplotlib.pyplot as plt\n",
    "from PIL import Image\n",
    "import glob\n",
    "import pickle as pkl\n",
    "import pandas as pd\n",
    "from pss2dataframe import create_dataframe,dataframe2array\n",
    "from texture_synth import texture_synthesis\n",
    "import texture_analysis_g as ta\n",
    "import copy\n",
    "import logging\n",
    "\n",
    "logger = logging.getLogger()\n",
    "logger.setLevel(100)"
   ]
  },
  {
   "cell_type": "code",
   "execution_count": 2,
   "metadata": {},
   "outputs": [
    {
     "name": "stdout",
     "output_type": "stream",
     "text": [
      "1000/1001\r"
     ]
    }
   ],
   "source": [
    "path = glob.glob(\"save/0001000/0000/img/*\")\n",
    "path.sort()\n",
    "path=path[-1]\n",
    "image = Image.open(path).convert(\"L\")\n",
    "image = np.array( image )\n",
    "image = image[:256,:256]\n",
    "Image.fromarray(image).save(\"0001000/original.png\")\n",
    "\n",
    "N=4\n",
    "K=4\n",
    "M=7\n",
    "resol_x = image.shape[1]\n",
    "resol_y = image.shape[0]\n",
    "cmask = np.array([1,1,1,1])\n",
    "\n",
    "texture_synthesis(image=image,resol_x=resol_x,resol_y=resol_y\n",
    "                  ,num_depth=N,num_ori=K,num_neighbor=M,\n",
    "                  iter = 1001,out_path=\"0001000\",filename=\"tmp\",cmask=cmask)"
   ]
  },
  {
   "cell_type": "code",
   "execution_count": 3,
   "metadata": {},
   "outputs": [
    {
     "name": "stdout",
     "output_type": "stream",
     "text": [
      "1000/1001\r"
     ]
    }
   ],
   "source": [
    "path = glob.glob(\"save/0000100/0000/img/*\")\n",
    "path.sort()\n",
    "path=path[-1]\n",
    "\n",
    "image = Image.open(path).convert(\"L\")\n",
    "image.save(\"0000100/original.png\")\n",
    "image = np.array( image )\n",
    "image = image[:256,:256]\n",
    "Image.fromarray(image).save(\"0000100/original.png\")\n",
    "\n",
    "texture_synthesis(image=image,resol_x=resol_x,resol_y=resol_y\n",
    "                  ,num_depth=N,num_ori=K,num_neighbor=M,\n",
    "                  iter = 1001,out_path=\"0000100\",filename=\"tmp\",cmask=cmask)"
   ]
  },
  {
   "cell_type": "code",
   "execution_count": 4,
   "metadata": {},
   "outputs": [
    {
     "name": "stdout",
     "output_type": "stream",
     "text": [
      "1000/1001\r"
     ]
    }
   ],
   "source": [
    "path = glob.glob(\"save/0000010/0000/img/*\")\n",
    "path.sort()\n",
    "path=path[-1]\n",
    "\n",
    "image = Image.open(path).convert(\"L\")\n",
    "image.save(\"0000010/original.png\")\n",
    "image = np.array( image )\n",
    "image = image[:256,:256]\n",
    "Image.fromarray(image).save(\"0000010/original.png\")\n",
    "\n",
    "texture_synthesis(image=image,resol_x=resol_x,resol_y=resol_y\n",
    "                  ,num_depth=N,num_ori=K,num_neighbor=M,\n",
    "                  iter = 1001,out_path=\"0000010\",filename=\"tmp\",cmask=cmask)"
   ]
  },
  {
   "cell_type": "code",
   "execution_count": 7,
   "metadata": {},
   "outputs": [],
   "source": [
    "N=4\n",
    "K=4\n",
    "M=7\n",
    "resol_x = image.shape[1]\n",
    "resol_y = image.shape[0]\n",
    "\n",
    "df = create_dataframe(image,N,K,M)\n",
    "statics_list = df.columns.to_list()\n",
    "statics_list = [i[0] for i in statics_list]\n",
    "statics_list = sorted( set(statics_list) ,key=statics_list.index)\n",
    "\n",
    "orig_data = ta.TextureAnalysis(image,resol_x,resol_y,N,K,M,ADD_NOISE=False)\n",
    "orig_data.analyse()"
   ]
  },
  {
   "cell_type": "code",
   "execution_count": 4,
   "metadata": {},
   "outputs": [],
   "source": [
    "orig_data = dataframe2array(orig_data,df,N,K,M)"
   ]
  },
  {
   "cell_type": "code",
   "execution_count": 11,
   "metadata": {},
   "outputs": [
    {
     "name": "stdout",
     "output_type": "stream",
     "text": [
      "165/1001\r"
     ]
    },
    {
     "ename": "KeyboardInterrupt",
     "evalue": "",
     "output_type": "error",
     "traceback": [
      "\u001b[0;31m---------------------------------------------------------------------------\u001b[0m",
      "\u001b[0;31mKeyboardInterrupt\u001b[0m                         Traceback (most recent call last)",
      "\u001b[0;32m<ipython-input-11-d38a119e584f>\u001b[0m in \u001b[0;36m<module>\u001b[0;34m\u001b[0m\n\u001b[1;32m      2\u001b[0m texture_synthesis(orig_data=orig_data,resol_x=resol_x,resol_y=resol_y\n\u001b[1;32m      3\u001b[0m                   \u001b[0;34m,\u001b[0m\u001b[0mnum_depth\u001b[0m\u001b[0;34m=\u001b[0m\u001b[0mN\u001b[0m\u001b[0;34m,\u001b[0m\u001b[0mnum_ori\u001b[0m\u001b[0;34m=\u001b[0m\u001b[0mK\u001b[0m\u001b[0;34m,\u001b[0m\u001b[0mnum_neighbor\u001b[0m\u001b[0;34m=\u001b[0m\u001b[0mM\u001b[0m\u001b[0;34m,\u001b[0m\u001b[0;34m\u001b[0m\u001b[0;34m\u001b[0m\u001b[0m\n\u001b[0;32m----> 4\u001b[0;31m                   iter = 1001,out_path=\"tmp\",filename=\"tmp\",cmask=cmask)\n\u001b[0m",
      "\u001b[0;32m~/TDGLequation-master/tdgl_solver/source/texture_synth_df.py\u001b[0m in \u001b[0;36mtexture_synthesis\u001b[0;34m(orig_data, resol_x, resol_y, num_depth, num_ori, num_neighbor, iter, out_path, filename, cmask)\u001b[0m\n\u001b[1;32m    117\u001b[0m                 \u001b[0;32mfor\u001b[0m \u001b[0mk\u001b[0m \u001b[0;32min\u001b[0m \u001b[0mrange\u001b[0m\u001b[0;34m(\u001b[0m\u001b[0mnum_ori\u001b[0m\u001b[0;34m)\u001b[0m\u001b[0;34m:\u001b[0m\u001b[0;34m\u001b[0m\u001b[0;34m\u001b[0m\u001b[0m\n\u001b[1;32m    118\u001b[0m                     \u001b[0;31m# adjust central auto-correlations\u001b[0m\u001b[0;34m\u001b[0m\u001b[0;34m\u001b[0m\u001b[0;34m\u001b[0m\u001b[0m\n\u001b[0;32m--> 119\u001b[0;31m                     \u001b[0m_tmp\u001b[0m \u001b[0;34m=\u001b[0m \u001b[0msutils\u001b[0m\u001b[0;34m.\u001b[0m\u001b[0mmod_acorr\u001b[0m\u001b[0;34m(\u001b[0m\u001b[0mbnd_m\u001b[0m\u001b[0;34m[\u001b[0m\u001b[0mdp\u001b[0m\u001b[0;34m]\u001b[0m\u001b[0;34m[\u001b[0m\u001b[0mk\u001b[0m\u001b[0;34m]\u001b[0m\u001b[0;34m,\u001b[0m \u001b[0morig_data\u001b[0m\u001b[0;34m.\u001b[0m\u001b[0mBND_MCOR\u001b[0m\u001b[0;34m[\u001b[0m\u001b[0mdp\u001b[0m\u001b[0;34m]\u001b[0m\u001b[0;34m[\u001b[0m\u001b[0mk\u001b[0m\u001b[0;34m]\u001b[0m\u001b[0;34m,\u001b[0m \u001b[0mnum_neighbor\u001b[0m\u001b[0;34m)\u001b[0m\u001b[0;34m\u001b[0m\u001b[0;34m\u001b[0m\u001b[0m\n\u001b[0m\u001b[1;32m    120\u001b[0m \u001b[0;34m\u001b[0m\u001b[0m\n\u001b[1;32m    121\u001b[0m                     \u001b[0;31m# update BND_N\u001b[0m\u001b[0;34m\u001b[0m\u001b[0;34m\u001b[0m\u001b[0;34m\u001b[0m\u001b[0m\n",
      "\u001b[0;32m~/TDGLequation-master/tdgl_solver/source/sutils.py\u001b[0m in \u001b[0;36mmod_acorr\u001b[0;34m(im, cy, mm)\u001b[0m\n\u001b[1;32m    388\u001b[0m         \u001b[0;31m# calicurate auto correlation of original image.\u001b[0m\u001b[0;34m\u001b[0m\u001b[0;34m\u001b[0m\u001b[0;34m\u001b[0m\u001b[0m\n\u001b[1;32m    389\u001b[0m         \u001b[0mft\u001b[0m \u001b[0;34m=\u001b[0m \u001b[0mnp\u001b[0m\u001b[0;34m.\u001b[0m\u001b[0mfft\u001b[0m\u001b[0;34m.\u001b[0m\u001b[0mfft2\u001b[0m\u001b[0;34m(\u001b[0m\u001b[0mim\u001b[0m\u001b[0;34m)\u001b[0m\u001b[0;34m\u001b[0m\u001b[0;34m\u001b[0m\u001b[0m\n\u001b[0;32m--> 390\u001b[0;31m         \u001b[0mft2\u001b[0m \u001b[0;34m=\u001b[0m \u001b[0mnp\u001b[0m\u001b[0;34m.\u001b[0m\u001b[0mabs\u001b[0m\u001b[0;34m(\u001b[0m\u001b[0mft\u001b[0m\u001b[0;34m)\u001b[0m\u001b[0;34m**\u001b[0m\u001b[0;36m2\u001b[0m\u001b[0;34m\u001b[0m\u001b[0;34m\u001b[0m\u001b[0m\n\u001b[0m\u001b[1;32m    391\u001b[0m         \u001b[0mcx\u001b[0m \u001b[0;34m=\u001b[0m \u001b[0mnp\u001b[0m\u001b[0;34m.\u001b[0m\u001b[0mfft\u001b[0m\u001b[0;34m.\u001b[0m\u001b[0mifftshift\u001b[0m\u001b[0;34m(\u001b[0m\u001b[0mnp\u001b[0m\u001b[0;34m.\u001b[0m\u001b[0mfft\u001b[0m\u001b[0;34m.\u001b[0m\u001b[0mifft2\u001b[0m\u001b[0;34m(\u001b[0m\u001b[0mft2\u001b[0m\u001b[0;34m)\u001b[0m\u001b[0;34m.\u001b[0m\u001b[0mreal\u001b[0m\u001b[0;34m)\u001b[0m\u001b[0;34m\u001b[0m\u001b[0;34m\u001b[0m\u001b[0m\n\u001b[1;32m    392\u001b[0m         \u001b[0;32mif\u001b[0m \u001b[0;32mnot\u001b[0m \u001b[0mnp\u001b[0m\u001b[0;34m.\u001b[0m\u001b[0mall\u001b[0m\u001b[0;34m(\u001b[0m\u001b[0mnp\u001b[0m\u001b[0;34m.\u001b[0m\u001b[0misreal\u001b[0m\u001b[0;34m(\u001b[0m\u001b[0mcx\u001b[0m\u001b[0;34m)\u001b[0m\u001b[0;34m)\u001b[0m\u001b[0;34m:\u001b[0m\u001b[0;34m\u001b[0m\u001b[0;34m\u001b[0m\u001b[0m\n",
      "\u001b[0;31mKeyboardInterrupt\u001b[0m: "
     ]
    }
   ],
   "source": [
    "cmask = np.array([1,1,1,1])\n",
    "texture_synthesis(orig_data=orig_data,resol_x=resol_x,resol_y=resol_y\n",
    "                  ,num_depth=N,num_ori=K,num_neighbor=M,\n",
    "                  iter = 1001,out_path=\"tmp\",filename=\"tmp\",cmask=cmask)"
   ]
  }
 ],
 "metadata": {
  "kernelspec": {
   "display_name": "Python 3",
   "language": "python",
   "name": "python3"
  },
  "language_info": {
   "codemirror_mode": {
    "name": "ipython",
    "version": 3
   },
   "file_extension": ".py",
   "mimetype": "text/x-python",
   "name": "python",
   "nbconvert_exporter": "python",
   "pygments_lexer": "ipython3",
   "version": "3.6.6"
  }
 },
 "nbformat": 4,
 "nbformat_minor": 2
}
