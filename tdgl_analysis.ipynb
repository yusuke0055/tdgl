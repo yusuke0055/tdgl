{
 "cells": [
  {
   "cell_type": "code",
   "execution_count": 1,
   "metadata": {},
   "outputs": [],
   "source": [
    "import sys \n",
    "sys.path.append(\"source\")\n",
    "\n",
    "import pandas\n",
    "from pss2dataframe import create_dataframe\n",
    "from PIL import Image\n",
    "import numpy as np\n",
    "import pandas as pd\n",
    "import logging\n",
    "import glob\n",
    "import os\n",
    "import matplotlib.pyplot as plt\n",
    "import pickle as pkl\n",
    "logger = logging.getLogger()\n",
    "logger.setLevel(100)\n",
    "\n",
    "pd.set_option('display.max_rows', 100)\n",
    "pd.set_option('display.max_columns', 100)"
   ]
  },
  {
   "cell_type": "code",
   "execution_count": 2,
   "metadata": {},
   "outputs": [],
   "source": [
    "N = 4\n",
    "K = 4\n",
    "M = 7"
   ]
  },
  {
   "cell_type": "code",
   "execution_count": 3,
   "metadata": {},
   "outputs": [],
   "source": [
    "path = \"save/*\"\n",
    "hvs_path = glob.glob(path)\n",
    "hvs_path.sort()"
   ]
  },
  {
   "cell_type": "code",
   "execution_count": 17,
   "metadata": {},
   "outputs": [],
   "source": [
    "cmn = \"/0000/img/*\""
   ]
  },
  {
   "cell_type": "code",
   "execution_count": 18,
   "metadata": {},
   "outputs": [],
   "source": [
    "hvs_path = [i+cmn for i in hvs_path]"
   ]
  },
  {
   "cell_type": "code",
   "execution_count": 20,
   "metadata": {},
   "outputs": [],
   "source": [
    "def squared(image,i):\n",
    "    if   i == 0:\n",
    "        return image[:256,:256]\n",
    "    elif i == 1:\n",
    "        return image[:256,256:]\n",
    "    elif i == 2:\n",
    "        return image[256:,:256]\n",
    "    else:\n",
    "        return image[256:,256:]"
   ]
  },
  {
   "cell_type": "code",
   "execution_count": 21,
   "metadata": {
    "scrolled": true
   },
   "outputs": [
    {
     "name": "stdout",
     "output_type": "stream",
     "text": [
      "    99/   100\r"
     ]
    }
   ],
   "source": [
    "df_list = []\n",
    "filename_list = []\n",
    "for ind, hv_path in enumerate( hvs_path ):\n",
    "    hv = hv_path[5:12] # extract hv id \n",
    "    print(\"{:6}/{:6}\".format(ind,len(hvs_path)),end=\"\\r\")\n",
    "    \n",
    "    imgs_path = glob.glob(hv_path)\n",
    "    imgs_path.sort()\n",
    "    image = Image.open(imgs_path[-1]).convert(\"L\")\n",
    "    \n",
    "    for i in range(4):\n",
    "            image_4 = squared( np.array(image) ,i)\n",
    "            Image.fromarray( image_4 ).save(\"targets/{}.png\".format(hv))\n",
    "            df_list.append( create_dataframe( image_4,N,K,M ) )\n",
    "            tmpname = str(i)+os.path.basename(hv).replace(\".png\",\"\")\n",
    "            filename_list.append( tmpname )\n",
    "\n",
    "all_df = pd.concat( df_list ,axis=0)\n",
    "tuples = list(zip( *[filename_list] ))\n",
    "indexes = pd.MultiIndex.from_tuples(tuples,names=[\"file_name\"])\n",
    "all_df.set_index(indexes,inplace=True)"
   ]
  },
  {
   "cell_type": "code",
   "execution_count": 23,
   "metadata": {},
   "outputs": [],
   "source": [
    "df_pss_st = all_df.apply(lambda x: (x - x.mean() )/x.std(),axis=0) \n",
    "statics = [\"IM_MAR\",\"CF_MAR\",\"BND_MMAR\",\"CF_CA\",\"BND_MCOR\",\"CF_COUS\",\"CF_CPAR\",\"CF_RCOU\",\"CF_RPAR\",\"H0_PRO\"]"
   ]
  },
  {
   "cell_type": "code",
   "execution_count": 24,
   "metadata": {},
   "outputs": [],
   "source": [
    "df_mean = np.zeros([100,782])\n",
    "for i in range(100):\n",
    "    df_mean[i] = df_pss_st.iloc[i*4:(i+1)*4].mean()\n",
    "df_pss_st.iloc[:100] = df_mean\n",
    "df_pss_st= df_pss_st.iloc[:100]"
   ]
  },
  {
   "cell_type": "code",
   "execution_count": 25,
   "metadata": {},
   "outputs": [],
   "source": [
    "df_distance_dict = {}\n",
    "for static_name in statics:\n",
    "    df_tmp = df_pss_st.loc[:,static_name]\n",
    "    df_square =  (df_tmp - df_tmp.iloc[-1])**2\n",
    "    distance = np.sqrt(df_square.sum(axis=1))\n",
    "    df_distance_dict[static_name] = distance.values"
   ]
  },
  {
   "cell_type": "code",
   "execution_count": 26,
   "metadata": {},
   "outputs": [
    {
     "data": {
      "text/plain": [
       "<Figure size 432x288 with 0 Axes>"
      ]
     },
     "metadata": {},
     "output_type": "display_data"
    }
   ],
   "source": [
    "for sname in statics:\n",
    "    plt.title(sname)\n",
    "    plt.plot(df_distance_dict[sname])\n",
    "    plt.savefig(sname+\".png\")\n",
    "    plt.clf()"
   ]
  },
  {
   "cell_type": "code",
   "execution_count": 29,
   "metadata": {},
   "outputs": [],
   "source": [
    "datalen = df_pss_st.shape[0]"
   ]
  },
  {
   "cell_type": "code",
   "execution_count": 30,
   "metadata": {
    "scrolled": true
   },
   "outputs": [
    {
     "name": "stdout",
     "output_type": "stream",
     "text": [
      " 99/100\r"
     ]
    }
   ],
   "source": [
    "euclid_distance = []\n",
    "for i in range(datalen):\n",
    "    print(\"{:3}/{:3}\".format(i,datalen),end=\"\\r\")\n",
    "    euclid_distance.append( (df_pss_st - df_pss_st.iloc[i])**2 )"
   ]
  },
  {
   "cell_type": "code",
   "execution_count": 32,
   "metadata": {},
   "outputs": [],
   "source": [
    "euclid_distance_dict = {}\n",
    "for static in statics:\n",
    "    tmp = np.zeros([datalen,datalen])\n",
    "    for i in range(datalen):\n",
    "        tmp[i] = euclid_distance[i].loc[:,(static)].mean(axis=1)\n",
    "    euclid_distance_dict[static] = tmp"
   ]
  },
  {
   "cell_type": "code",
   "execution_count": 31,
   "metadata": {},
   "outputs": [
    {
     "ename": "NameError",
     "evalue": "name 'euclid_distance_dict' is not defined",
     "output_type": "error",
     "traceback": [
      "\u001b[0;31m---------------------------------------------------------------------------\u001b[0m",
      "\u001b[0;31mNameError\u001b[0m                                 Traceback (most recent call last)",
      "\u001b[0;32m<ipython-input-31-a4e8c78358cb>\u001b[0m in \u001b[0;36m<module>\u001b[0;34m\u001b[0m\n\u001b[1;32m      2\u001b[0m \u001b[0;32mfor\u001b[0m \u001b[0mi\u001b[0m\u001b[0;34m,\u001b[0m\u001b[0mstatic\u001b[0m \u001b[0;32min\u001b[0m \u001b[0menumerate\u001b[0m\u001b[0;34m(\u001b[0m\u001b[0mstatics\u001b[0m\u001b[0;34m)\u001b[0m\u001b[0;34m:\u001b[0m\u001b[0;34m\u001b[0m\u001b[0;34m\u001b[0m\u001b[0m\n\u001b[1;32m      3\u001b[0m     \u001b[0mplt\u001b[0m\u001b[0;34m.\u001b[0m\u001b[0msubplot\u001b[0m\u001b[0;34m(\u001b[0m\u001b[0;36m2\u001b[0m\u001b[0;34m,\u001b[0m\u001b[0;36m5\u001b[0m\u001b[0;34m,\u001b[0m\u001b[0mi\u001b[0m\u001b[0;34m+\u001b[0m\u001b[0;36m1\u001b[0m\u001b[0;34m)\u001b[0m\u001b[0;34m\u001b[0m\u001b[0;34m\u001b[0m\u001b[0m\n\u001b[0;32m----> 4\u001b[0;31m     \u001b[0mplt\u001b[0m\u001b[0;34m.\u001b[0m\u001b[0mimshow\u001b[0m\u001b[0;34m(\u001b[0m\u001b[0meuclid_distance_dict\u001b[0m\u001b[0;34m[\u001b[0m\u001b[0mstatic\u001b[0m\u001b[0;34m]\u001b[0m\u001b[0;34m)\u001b[0m\u001b[0;34m\u001b[0m\u001b[0;34m\u001b[0m\u001b[0m\n\u001b[0m\u001b[1;32m      5\u001b[0m     \u001b[0;31m#plt.colorbar()\u001b[0m\u001b[0;34m\u001b[0m\u001b[0;34m\u001b[0m\u001b[0;34m\u001b[0m\u001b[0m\n\u001b[1;32m      6\u001b[0m     \u001b[0mplt\u001b[0m\u001b[0;34m.\u001b[0m\u001b[0mtitle\u001b[0m\u001b[0;34m(\u001b[0m\u001b[0mstatic\u001b[0m\u001b[0;34m)\u001b[0m\u001b[0;34m\u001b[0m\u001b[0;34m\u001b[0m\u001b[0m\n",
      "\u001b[0;31mNameError\u001b[0m: name 'euclid_distance_dict' is not defined"
     ]
    },
    {
     "data": {
      "image/png": "[encoded data removed]",
      "text/plain": [
       "<Figure size 1152x648 with 1 Axes>"
      ]
     },
     "metadata": {
      "needs_background": "light"
     },
     "output_type": "display_data"
    }
   ],
   "source": [
    "plt.figure(figsize=(16,9))\n",
    "for i,static in enumerate(statics):\n",
    "    plt.subplot(2,5,i+1)\n",
    "    plt.imshow(euclid_distance_dict[static])\n",
    "    #plt.colorbar()\n",
    "    plt.title(static)\n",
    "plt.savefig(\"static_distance.png\")"
   ]
  },
  {
   "cell_type": "code",
   "execution_count": 40,
   "metadata": {},
   "outputs": [],
   "source": [
    "# 3枚だけ"
   ]
  },
  {
   "cell_type": "code",
   "execution_count": 4,
   "metadata": {},
   "outputs": [],
   "source": [
    "from pss2dataframe import create_dataframe\n",
    "from PIL import Image\n",
    "import numpy as np\n",
    "import pandas as pd\n",
    "import logging\n",
    "import glob\n",
    "import os\n",
    "import matplotlib.pyplot as plt\n",
    "logger = logging.getLogger()\n",
    "logger.setLevel(100)\n",
    "\n",
    "pd.set_option('display.max_rows', 100)\n",
    "pd.set_option('display.max_columns', 100)"
   ]
  },
  {
   "cell_type": "code",
   "execution_count": 6,
   "metadata": {},
   "outputs": [],
   "source": [
    "N = 4\n",
    "K = 4\n",
    "M = 7"
   ]
  },
  {
   "cell_type": "code",
   "execution_count": 7,
   "metadata": {},
   "outputs": [],
   "source": [
    "image_list = glob.glob(\"original/*.png\")\n",
    "image_list.sort()"
   ]
  },
  {
   "cell_type": "code",
   "execution_count": 8,
   "metadata": {},
   "outputs": [
    {
     "name": "stdout",
     "output_type": "stream",
     "text": [
      "11\r"
     ]
    }
   ],
   "source": [
    "df_list = []\n",
    "filename_list = []\n",
    "for ind, file_name in enumerate( image_list ):\n",
    "    print(ind , end=\"\\r\")\n",
    "    image = Image.open(file_name)\n",
    "    image = np.array(image)\n",
    "    df_list.append( create_dataframe(image,N,K,M) )\n",
    "    filename_list.append( os.path.basename(file_name).replace(\".png\",\"\") )\n",
    "\n",
    "all_df = pd.concat( df_list ,axis=0)\n",
    "tuples = list(zip( *[filename_list] ))\n",
    "indexes = pd.MultiIndex.from_tuples(tuples,names=[\"file_name\"])\n",
    "all_df.set_index(indexes,inplace=True)"
   ]
  },
  {
   "cell_type": "code",
   "execution_count": 9,
   "metadata": {},
   "outputs": [],
   "source": [
    "df_pss_st = all_df.apply(lambda x: (x - x.mean() )/x.std(),axis=0) \n",
    "statics = [\"IM_MAR\",\"CF_MAR\",\"BND_MMAR\",\"CF_CA\",\"BND_MCOR\",\"CF_COUS\",\"CF_CPAR\",\"CF_RCOU\",\"CF_RPAR\",\"H0_PRO\"]\n",
    "\n",
    "euclid_distance = []\n",
    "for i in range(12):\n",
    "    euclid_distance.append( (df_pss_st - df_pss_st.iloc[i])**2 )\n",
    "    \n",
    "euclid_distance_dict = {}\n",
    "for static in statics:\n",
    "    tmp = np.zeros([12,12])\n",
    "    for i in range(12):\n",
    "        tmp[i] = euclid_distance[i].loc[:,(static)].mean(axis=1)\n",
    "    euclid_distance_dict[static] = tmp"
   ]
  },
  {
   "cell_type": "code",
   "execution_count": 10,
   "metadata": {},
   "outputs": [
    {
     "data": {
      "image/png": "[encoded data removed]",
      "text/plain": [
       "<Figure size 432x288 with 1 Axes>"
      ]
     },
     "metadata": {
      "needs_background": "light"
     },
     "output_type": "display_data"
    }
   ],
   "source": [
    "\n",
    "for i,static in enumerate(statics):\n",
    "    plt.imshow(euclid_distance_dict[static])\n",
    "    plt.savefig(\"{}.svg\".format(static))"
   ]
  },
  {
   "cell_type": "code",
   "execution_count": 11,
   "metadata": {},
   "outputs": [
    {
     "data": {
      "image/png": "[encoded data removed]",
      "text/plain": [
       "<Figure size 1152x648 with 10 Axes>"
      ]
     },
     "metadata": {
      "needs_background": "light"
     },
     "output_type": "display_data"
    }
   ],
   "source": [
    "plt.figure(figsize=(16,9))\n",
    "for i,static in enumerate(statics):\n",
    "    plt.subplot(2,5,i+1)\n",
    "    plt.imshow(euclid_distance_dict[static],\"gray\")\n",
    "    #plt.colorbar()\n",
    "    plt.title(static)\n",
    "plt.savefig(\"static_distance.svg\")"
   ]
  },
  {
   "cell_type": "code",
   "execution_count": null,
   "metadata": {},
   "outputs": [],
   "source": []
  }
 ],
 "metadata": {
  "kernelspec": {
   "display_name": "Python 3",
   "language": "python",
   "name": "python3"
  },
  "language_info": {
   "codemirror_mode": {
    "name": "ipython",
    "version": 3
   },
   "file_extension": ".py",
   "mimetype": "text/x-python",
   "name": "python",
   "nbconvert_exporter": "python",
   "pygments_lexer": "ipython3",
   "version": "3.6.6"
  }
 },
 "nbformat": 4,
 "nbformat_minor": 2
}
