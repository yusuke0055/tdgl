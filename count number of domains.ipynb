{
 "cells": [
  {
   "cell_type": "code",
   "execution_count": 1,
   "metadata": {},
   "outputs": [],
   "source": [
    "import sys \n",
    "sys.path.append(\"source\")\n",
    "\n",
    "import pandas\n",
    "from pss2dataframe import create_dataframe\n",
    "from PIL import Image\n",
    "import cv2\n",
    "import numpy as np\n",
    "import pandas as pd\n",
    "import logging\n",
    "import glob\n",
    "import os\n",
    "import matplotlib.pyplot as plt\n",
    "import pickle as pkl\n",
    "logger = logging.getLogger()\n",
    "logger.setLevel(100)"
   ]
  },
  {
   "cell_type": "code",
   "execution_count": 2,
   "metadata": {},
   "outputs": [],
   "source": [
    "hvs = [\"0000010\",\"0000100\",\"0001000\"]"
   ]
  },
  {
   "cell_type": "code",
   "execution_count": 3,
   "metadata": {},
   "outputs": [
    {
     "name": "stdout",
     "output_type": "stream",
     "text": [
      " 2099/ 2100:2556\r"
     ]
    }
   ],
   "source": [
    "nof_dict = {}\n",
    "for hv in hvs:\n",
    "    \n",
    "    path = \"save/{}/0000/img/*\".format(hv)\n",
    "    images_path = glob.glob(path)\n",
    "    images_path.sort()\n",
    "    \n",
    "    nof = []\n",
    "    for ind,im_path in enumerate(images_path):\n",
    "        image = Image.open(im_path).convert(\"L\")\n",
    "        image = np.array(image)[:256,:256]\n",
    "        contours,hierar  = cv2.findContours(image, cv2.RETR_TREE, cv2.CHAIN_APPROX_SIMPLE) \n",
    "        nof.append(len(contours))\n",
    "        print(\"{:5}/{:5}:{}\".format(ind,len(images_path),len(contours)),end=\"\\r\")\n",
    "    \n",
    "    nof_dict[hv] = nof"
   ]
  },
  {
   "cell_type": "code",
   "execution_count": 4,
   "metadata": {},
   "outputs": [],
   "source": [
    "with open(\"numberofdomains.pkl\",\"wb\") as f:\n",
    "    pkl.dump(nof_dict,f)"
   ]
  },
  {
   "cell_type": "code",
   "execution_count": 5,
   "metadata": {},
   "outputs": [],
   "source": [
    "with open(\"numberofdomains.pkl\",\"rb\") as f:\n",
    "    nof_dict = pkl.load(f)"
   ]
  },
  {
   "cell_type": "code",
   "execution_count": 31,
   "metadata": {},
   "outputs": [],
   "source": [
    "shrink_hvs = {\"0000010\":nof_dict[\"0000010\"][0:140000:100],\"0000100\":nof_dict[\"0000100\"][0:14000:10],\"0001000\":nof_dict[\"0001000\"][0:1400:1]}"
   ]
  },
  {
   "cell_type": "code",
   "execution_count": 32,
   "metadata": {},
   "outputs": [],
   "source": [
    "datalen = len(shrink_hvs[\"0000010\"])\n",
    "xlabels = [i for i in range(datalen)]\n",
    "xlabels_norm = [i/1400 for i in range(datalen)]\n",
    "xlabels_norm = xlabels_norm[::-1]"
   ]
  },
  {
   "cell_type": "code",
   "execution_count": 80,
   "metadata": {},
   "outputs": [
    {
     "data": {
      "image/png": "[encoded data removed]",
      "text/plain": [
       "<Figure size 432x288 with 3 Axes>"
      ]
     },
     "metadata": {
      "needs_background": "light"
     },
     "output_type": "display_data"
    }
   ],
   "source": [
    "lw = 3\n",
    "f_sp = 0.6\n",
    "wh_sp = 0.1\n",
    "s_sp = 0.8 - wh_sp - f_sp\n",
    "\n",
    "\n",
    "fig = plt.figure()\n",
    "\n",
    "ax0 = fig.add_axes((0.1+f_sp, 0.1, wh_sp , 0.8), fc=\"white\",\n",
    "                   xticks=[], yticks=[])\n",
    "\n",
    "ax1 = fig.add_axes((0.1, 0.1, f_sp , 0.8), fc=\"gainsboro\",\n",
    "                   xlim=(0, 0.25), ylabel=\"\")\n",
    "\n",
    "ax2 = fig.add_axes((0.1+f_sp+wh_sp, 0.1, s_sp, 0.8), fc=\"gainsboro\",\n",
    "                   xlim=(0.9, 1.0), sharey=ax1)\n",
    "\n",
    "#fig.suptitle(\"Jump plot\")\n",
    "fig.text(0.5, 0, \"\", horizontalalignment=\"center\")\n",
    "\n",
    "ax1.plot(xlabels_norm,shrink_hvs[hvs[2]],linewidth=lw,label=\"v$=10^{-2}$\")\n",
    "ax1.plot(xlabels_norm,shrink_hvs[hvs[1]],linewidth=lw,label=\"v$=10^{-3}$\")\n",
    "ax1.plot(xlabels_norm,shrink_hvs[hvs[0]],linewidth=lw,label=\"v$=10^{-4}$\")\n",
    "\n",
    "ax1.grid()\n",
    "#ax1.set_xticks([0,0.1,0.2,0.3,0.4])\n",
    "\n",
    "ax2.plot(xlabels_norm,shrink_hvs[hvs[2]],linewidth=lw)\n",
    "ax2.plot(xlabels_norm,shrink_hvs[hvs[1]],linewidth=lw)\n",
    "ax2.plot(xlabels_norm,shrink_hvs[hvs[0]],linewidth=lw)\n",
    "\n",
    "ax2.grid()\n",
    "#ax2.set_xticks(xlabels_norm)\n",
    "#ax2.set_xticks([0.6,0.7,0.8,0.9,1.0])\n",
    "\n",
    "ax1.spines[\"right\"].set_visible(False)\n",
    "ax1.tick_params(left=False, labelleft=False)\n",
    "ax0.spines[\"left\"].set_visible(False)\n",
    "ax0.spines[\"right\"].set_visible(False)\n",
    "\n",
    "ax2.yaxis.tick_right()\n",
    "ax2.spines[\"left\"].set_visible(False)\n",
    "ax2.tick_params(left=False, labelleft=False)\n",
    "\n",
    "ax0.spines[\"top\"].set_linestyle((0, (5, 7)))\n",
    "ax0.spines[\"bottom\"].set_linestyle((0, (5, 7)))\n",
    "\n",
    "fig.legend(loc = (0.7,0.70))\n",
    "fig.savefig(\"3-1_b.svg\",format='svg', dpi=1000)"
   ]
  },
  {
   "cell_type": "code",
   "execution_count": 60,
   "metadata": {},
   "outputs": [
    {
     "data": {
      "text/plain": [
       "(0, 200)"
      ]
     },
     "execution_count": 60,
     "metadata": {},
     "output_type": "execute_result"
    },
    {
     "data": {
      "image/png": "[encoded data removed]",
      "text/plain": [
       "<Figure size 432x288 with 1 Axes>"
      ]
     },
     "metadata": {
      "needs_background": "light"
     },
     "output_type": "display_data"
    }
   ],
   "source": [
    "plt.plot(tmp,nof_dict[\"0001000\"][:1400])\n",
    "plt.xlim(0,200)"
   ]
  },
  {
   "cell_type": "code",
   "execution_count": 53,
   "metadata": {},
   "outputs": [],
   "source": [
    "tmp = [i for i in range(1400)]\n",
    "tmp = tmp[::-1]"
   ]
  }
 ],
 "metadata": {
  "kernelspec": {
   "display_name": "Python 3",
   "language": "python",
   "name": "python3"
  },
  "language_info": {
   "codemirror_mode": {
    "name": "ipython",
    "version": 3
   },
   "file_extension": ".py",
   "mimetype": "text/x-python",
   "name": "python",
   "nbconvert_exporter": "python",
   "pygments_lexer": "ipython3",
   "version": "3.6.6"
  }
 },
 "nbformat": 4,
 "nbformat_minor": 2
}
